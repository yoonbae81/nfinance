{
 "cells": [
  {
   "cell_type": "code",
   "execution_count": 1,
   "metadata": {},
   "outputs": [],
   "source": [
    "import sys\n",
    "import requests\n",
    "from bs4 import BeautifulSoup\n",
    "from datetime import datetime\n",
    "from requests.adapters import HTTPAdapter\n",
    "from urllib3.util.retry import Retry\n",
    "import pandas as pd"
   ]
  },
  {
   "cell_type": "code",
   "execution_count": 2,
   "metadata": {},
   "outputs": [],
   "source": [
    "URL = 'https://finance.naver.com/item/sise_day.nhn'\n",
    "HEADERS = {\n",
    "    'User-Agent':\n",
    "    'Mozilla/5.0 (X11; Linux x86_64) AppleWebKit/537.36 (KHTML, like Gecko) Chrome/92.0.4501.0 Safari/537.36 Edg/92.0.891.1'\n",
    "}\n"
   ]
  },
  {
   "cell_type": "code",
   "execution_count": 24,
   "metadata": {},
   "outputs": [],
   "source": [
    "def parse(bs: BeautifulSoup) -> dict:\n",
    "    # ['date', 'close', 'delta', 'open', 'high', 'low', 'volume']\n",
    "    clean = lambda s: s.strip().replace(',', '').replace('.', '-')\n",
    "    values = [span.text for span in bs.findAll('span', class_='tah')]\n",
    "    values = list(map(clean, values))\n",
    "\n",
    "    def partition(line, n):\n",
    "        for i in range(0, len(line), n):\n",
    "            yield line[i:i + n]\n",
    "\n",
    "    for row in partition(values, 7):\n",
    "        yield {\n",
    "            'Date': row[0],\n",
    "            'Open': row[3],\n",
    "            'High': row[4],\n",
    "            'Low': row[5],\n",
    "            'Close': row[1],\n",
    "            'Adj Close': row[1],\n",
    "            'Volume': row[6],\n",
    "        }"
   ]
  },
  {
   "cell_type": "code",
   "execution_count": 4,
   "metadata": {},
   "outputs": [],
   "source": [
    "symbol = '372330'\n",
    "date_from = '2020-12-17'\n",
    "\n",
    "class OutOfPeriod(Exception):\n",
    "    pass"
   ]
  },
  {
   "cell_type": "code",
   "execution_count": 5,
   "metadata": {},
   "outputs": [],
   "source": [
    "def session():\n",
    "    s = requests.session()\n",
    "    r = Retry(total=5,\n",
    "              backoff_factor=0.2,\n",
    "              status_forcelist=[413, 429, 500, 502, 503, 504])\n",
    "    a = HTTPAdapter(max_retries=r)\n",
    "    s.mount('http://', a)\n",
    "    s.mount('https://', a)\n",
    "    return s\n",
    "    \n",
    "s = session()\n",
    "r = s.get(URL, \n",
    "          params={'code': symbol, 'page': 1}, \n",
    "          headers=HEADERS)\n"
   ]
  },
  {
   "cell_type": "code",
   "execution_count": null,
   "metadata": {},
   "outputs": [],
   "source": [
    "r.text"
   ]
  },
  {
   "cell_type": "code",
   "execution_count": 7,
   "metadata": {},
   "outputs": [],
   "source": [
    "bs = BeautifulSoup(r.text, 'html.parser')\n",
    "\n",
    "if bs.find('td', class_='pgRR') is None:\n",
    "    print('[ERROR] Invalid symbol: {}'.format(symbol), file=sys.stderr)\n",
    "    raise RuntimeError('No data found with symbol')"
   ]
  },
  {
   "cell_type": "code",
   "execution_count": 8,
   "metadata": {},
   "outputs": [],
   "source": [
    "bs = BeautifulSoup(r.text, 'html.parser')\n",
    "if bs.find('span', class_='tah').text == '':\n",
    "    raise FileNotFoundError()"
   ]
  },
  {
   "cell_type": "code",
   "execution_count": null,
   "metadata": {},
   "outputs": [],
   "source": [
    "bs.findAll('span', class_='tah')"
   ]
  },
  {
   "cell_type": "code",
   "execution_count": null,
   "metadata": {},
   "outputs": [],
   "source": [
    "l = []\n",
    "for r in parse(bs):\n",
    "    if date_from > r['Date']:\n",
    "        raise OutOfPeriod()\n",
    "\n",
    "    l.append(r)\n",
    "\n",
    "df = pd.DataFrame(l)\n",
    "df.set_index('Date')\n"
   ]
  }
 ],
 "metadata": {
  "interpreter": {
   "hash": "f4bbda9159a8759f5e3320d35a3c174f9c39e31912b306995e9871f446755e80"
  },
  "kernelspec": {
   "display_name": "Python 3.10.0 64-bit",
   "language": "python",
   "name": "python3"
  },
  "language_info": {
   "codemirror_mode": {
    "name": "ipython",
    "version": 3
   },
   "file_extension": ".py",
   "mimetype": "text/x-python",
   "name": "python",
   "nbconvert_exporter": "python",
   "pygments_lexer": "ipython3",
   "version": "3.10.0"
  },
  "orig_nbformat": 4
 },
 "nbformat": 4,
 "nbformat_minor": 2
}
