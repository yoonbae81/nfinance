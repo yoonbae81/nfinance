{
 "cells": [
  {
   "cell_type": "code",
   "execution_count": 6,
   "metadata": {},
   "outputs": [],
   "source": [
    "import requests\n",
    "import typing as t\n",
    "from bs4 import BeautifulSoup\n",
    "from datetime import datetime\n",
    "from requests.adapters import HTTPAdapter\n",
    "from urllib3.util.retry import Retry\n",
    "import pandas as pd"
   ]
  },
  {
   "cell_type": "code",
   "execution_count": 3,
   "metadata": {},
   "outputs": [],
   "source": [
    "URL = 'https://finance.naver.com/item/sise_day.nhn'\n",
    "HEADERS = {\n",
    "    'User-Agent':\n",
    "    'Mozilla/5.0 (X11; Linux x86_64) AppleWebKit/537.36 (KHTML, like Gecko) Chrome/92.0.4501.0 Safari/537.36 Edg/92.0.891.1'\n",
    "}\n"
   ]
  },
  {
   "cell_type": "code",
   "execution_count": 5,
   "metadata": {},
   "outputs": [],
   "source": [
    "def session():\n",
    "    s = requests.session()\n",
    "    r = Retry(total=5,\n",
    "              backoff_factor=0.2,\n",
    "              status_forcelist=[413, 429, 500, 502, 503, 504])\n",
    "    a = HTTPAdapter(max_retries=r)\n",
    "    s.mount('http://', a)\n",
    "    s.mount('https://', a)\n",
    "    return s\n",
    "    \n",
    "s = session()\n"
   ]
  },
  {
   "cell_type": "code",
   "execution_count": 17,
   "metadata": {},
   "outputs": [],
   "source": [
    "def partition(line: str, n: int) -> t.Generator[list[str], None, None]:\n",
    "    for i in range(0, len(line), n):\n",
    "        yield line[i:i + n]\n",
    "\n",
    "def parse(text: str) -> list[dict]:\n",
    "    bs = BeautifulSoup(text, 'html.parser')\n",
    "\n",
    "    values = [span.text for span in bs.findAll('span', class_='tah')]\n",
    "    values = list(map(lambda v: v.strip().replace(',', ''), values))\n",
    "    values = [int(v) if v.isnumeric() else v for v in values]\n",
    "\n",
    "    # ['date', 'close', 'delta', 'open', 'high', 'low', 'volume']\n",
    "    for row in partition(values, 7):\n",
    "        return {\n",
    "            'date': datetime.strptime(row[0], '%Y.%m.%d'),\n",
    "            'open': row[3],\n",
    "            'high': row[4],\n",
    "            'low': row[5],\n",
    "            'close': row[1],\n",
    "            'volume': row[6],\n",
    "        }"
   ]
  },
  {
   "cell_type": "code",
   "execution_count": 34,
   "metadata": {},
   "outputs": [],
   "source": [
    "def partition(line: str, n: int) -> t.Generator[list[str], None, None]:\n",
    "    for i in range(0, len(line), n):\n",
    "        yield line[i:i + n]\n",
    "\n",
    "def parse(text: str) -> t.Generator[list[dict], None, None]:\n",
    "    bs = BeautifulSoup(text, 'html.parser')\n",
    "\n",
    "    values = [span.text for span in bs.findAll('span', class_='tah')]\n",
    "    values = list(map(lambda v: v.strip().replace(',', ''), values))\n",
    "    values = [int(v) if v.isnumeric() else v for v in values]\n",
    "\n",
    "    # ['date', 'close', 'delta', 'open', 'high', 'low', 'volume']\n",
    "    for row in partition(values, 7):\n",
    "        d = datetime.strptime(row[0], '%Y.%m.%d')\n",
    "        yield {\n",
    "            'date': row[0],\n",
    "            'delta': (datetime.today() - d).days,\n",
    "        }"
   ]
  },
  {
   "cell_type": "code",
   "execution_count": 25,
   "metadata": {},
   "outputs": [],
   "source": [
    "symbol = '372330'\n",
    "date_from = '2020-12-17'\n",
    "page = 1\n",
    "\n",
    "r = s.get(URL, \n",
    "          params={'code': symbol, 'page': page}, \n",
    "          headers=HEADERS)"
   ]
  },
  {
   "cell_type": "code",
   "execution_count": 33,
   "metadata": {},
   "outputs": [
    {
     "data": {
      "text/plain": [
       "{'date': '2022.02.15', 'delta': 0, 'page': 1}"
      ]
     },
     "execution_count": 33,
     "metadata": {},
     "output_type": "execute_result"
    }
   ],
   "source": [
    "parse(r.text, page)"
   ]
  },
  {
   "cell_type": "code",
   "execution_count": 61,
   "metadata": {},
   "outputs": [],
   "source": [
    "symbol = '015760'\n",
    "\n",
    "result = []\n",
    "for page in range(1, 643):\n",
    "    r = s.get(URL, \n",
    "            params={'code': symbol, 'page': page}, \n",
    "            headers=HEADERS)\n",
    "\n",
    "    for item in parse(r.text):\n",
    "        item['page'] = page         \n",
    "        result.append(item)"
   ]
  },
  {
   "cell_type": "code",
   "execution_count": null,
   "metadata": {},
   "outputs": [],
   "source": [
    "for item in result:\n",
    "    date, delta, page = item.values()\n",
    "    print(f'{date}\\t{delta}\\t{page}')"
   ]
  },
  {
   "cell_type": "code",
   "execution_count": 96,
   "metadata": {},
   "outputs": [],
   "source": [
    "import typing\n",
    "\n",
    "def calc_page(target_date: typing.Union[datetime, str]) -> int:\n",
    "    if isinstance(str, target_date):\n",
    "        target_date = datetime.fromisoformat(target_date)\n",
    "\n",
    "    Y1 = -0.329523068666276\n",
    "    M = 0.0677815661631966\n",
    "    delta = (datetime.today() - target_date).days\n",
    "    \n",
    "    return max(1, round(delta * M + Y1))\n"
   ]
  },
  {
   "cell_type": "code",
   "execution_count": 97,
   "metadata": {},
   "outputs": [
    {
     "ename": "TypeError",
     "evalue": "isinstance() arg 2 must be a type, a tuple of types, or a union",
     "output_type": "error",
     "traceback": [
      "\u001b[1;31m---------------------------------------------------------------------------\u001b[0m",
      "\u001b[1;31mTypeError\u001b[0m                                 Traceback (most recent call last)",
      "\u001b[1;32md:\\Projects\\yhistory\\src\\yhistory\\providers\\naver.ipynb Cell 11'\u001b[0m in \u001b[0;36m<module>\u001b[1;34m\u001b[0m\n\u001b[1;32m----> <a href='vscode-notebook-cell:/d%3A/Projects/yhistory/src/yhistory/providers/naver.ipynb#ch0000021?line=0'>1</a>\u001b[0m \u001b[39massert\u001b[39;00m \u001b[39m1\u001b[39m \u001b[39m==\u001b[39m calc_page(\u001b[39m'\u001b[39;49m\u001b[39m2022-02-15\u001b[39;49m\u001b[39m'\u001b[39;49m)\n\u001b[0;32m      <a href='vscode-notebook-cell:/d%3A/Projects/yhistory/src/yhistory/providers/naver.ipynb#ch0000021?line=1'>2</a>\u001b[0m \u001b[39massert\u001b[39;00m \u001b[39m100\u001b[39m \u001b[39m==\u001b[39m calc_page(\u001b[39m'\u001b[39m\u001b[39m2018-02-02\u001b[39m\u001b[39m'\u001b[39m)\n\u001b[0;32m      <a href='vscode-notebook-cell:/d%3A/Projects/yhistory/src/yhistory/providers/naver.ipynb#ch0000021?line=2'>3</a>\u001b[0m \u001b[39massert\u001b[39;00m \u001b[39m200\u001b[39m \u001b[39m==\u001b[39m calc_page(\u001b[39m'\u001b[39m\u001b[39m2014-01-10\u001b[39m\u001b[39m'\u001b[39m)\n",
      "\u001b[1;32md:\\Projects\\yhistory\\src\\yhistory\\providers\\naver.ipynb Cell 10'\u001b[0m in \u001b[0;36mcalc_page\u001b[1;34m(target_date)\u001b[0m\n\u001b[0;32m      <a href='vscode-notebook-cell:/d%3A/Projects/yhistory/src/yhistory/providers/naver.ipynb#ch0000019?line=2'>3</a>\u001b[0m \u001b[39mdef\u001b[39;00m \u001b[39mcalc_page\u001b[39m(target_date: typing\u001b[39m.\u001b[39mUnion[datetime, \u001b[39mstr\u001b[39m]) \u001b[39m-\u001b[39m\u001b[39m>\u001b[39m \u001b[39mint\u001b[39m:\n\u001b[1;32m----> <a href='vscode-notebook-cell:/d%3A/Projects/yhistory/src/yhistory/providers/naver.ipynb#ch0000019?line=3'>4</a>\u001b[0m     \u001b[39mif\u001b[39;00m \u001b[39misinstance\u001b[39;49m(\u001b[39mstr\u001b[39;49m, target_date):\n\u001b[0;32m      <a href='vscode-notebook-cell:/d%3A/Projects/yhistory/src/yhistory/providers/naver.ipynb#ch0000019?line=4'>5</a>\u001b[0m         target_date \u001b[39m=\u001b[39m datetime\u001b[39m.\u001b[39mfromisoformat(target_date)\n\u001b[0;32m      <a href='vscode-notebook-cell:/d%3A/Projects/yhistory/src/yhistory/providers/naver.ipynb#ch0000019?line=6'>7</a>\u001b[0m     delta \u001b[39m=\u001b[39m (datetime\u001b[39m.\u001b[39mtoday() \u001b[39m-\u001b[39m target_date)\u001b[39m.\u001b[39mdays\n",
      "\u001b[1;31mTypeError\u001b[0m: isinstance() arg 2 must be a type, a tuple of types, or a union"
     ]
    }
   ],
   "source": [
    "assert 1 == calc_page('2022-02-15')\n",
    "assert 100 == calc_page('2018-02-02')\n",
    "assert 200 == calc_page('2014-01-10')\n",
    "assert 300 == calc_page('2010-01-04')\n",
    "assert 400 == calc_page('2005-12-22')\n",
    "assert 500 == calc_page('2001-12-05')\n",
    "assert 600 == calc_page('1997-11-22')\n"
   ]
  }
 ],
 "metadata": {
  "interpreter": {
   "hash": "f4bbda9159a8759f5e3320d35a3c174f9c39e31912b306995e9871f446755e80"
  },
  "kernelspec": {
   "display_name": "Python 3.10.0 64-bit",
   "language": "python",
   "name": "python3"
  },
  "language_info": {
   "codemirror_mode": {
    "name": "ipython",
    "version": 3
   },
   "file_extension": ".py",
   "mimetype": "text/x-python",
   "name": "python",
   "nbconvert_exporter": "python",
   "pygments_lexer": "ipython3",
   "version": "3.10.0"
  },
  "orig_nbformat": 4
 },
 "nbformat": 4,
 "nbformat_minor": 2
}
